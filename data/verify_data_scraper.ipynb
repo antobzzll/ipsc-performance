{
 "cells": [
  {
   "cell_type": "code",
   "execution_count": 1,
   "metadata": {},
   "outputs": [],
   "source": [
    "from tabula import read_pdf\n",
    "import pandas as pd\n",
    "import re\n",
    "import os\n",
    "# os.environ[\"JAVA_HOME\"] = \"/Library/Internet Plug-Ins/JavaAppletPlugin.plugin/Contents/Home\""
   ]
  },
  {
   "cell_type": "code",
   "execution_count": 2,
   "metadata": {},
   "outputs": [],
   "source": [
    "pdf_dir = 'pdf'\n",
    "year_dirs = []\n",
    "for d in os.listdir(pdf_dir):\n",
    "    if d[0] != '.':\n",
    "        year_dirs.append(d)"
   ]
  },
  {
   "cell_type": "code",
   "execution_count": 3,
   "metadata": {},
   "outputs": [],
   "source": [
    "def scrape_stage(stage_data):\n",
    "    stage_data = stage_data.copy()\n",
    "    \n",
    "    # Identify shooter info columns\n",
    "    shooter_info = [col for col in stage_data.columns if 'Unnamed' not in col]\n",
    "    \n",
    "    # Extract shooter details\n",
    "    shooter_name = re.sub(r'\\d+', '', shooter_info[0]).strip().split('DIV:')[0]\n",
    "    division = next((col.split('DIV:')[1] for col in stage_data.columns if 'DIV:' in col), '')\n",
    "    class_ = next((col.replace('CLASS:', '').strip() for col in stage_data.columns if 'CLASS:' in col), '')\n",
    "    factor = next((col.replace('FACTOR:', '').strip() for col in stage_data.columns if 'FACTOR:' in col), '')\n",
    "    category = next((col.replace('CATEGORY:', '').strip() for col in stage_data.columns if 'CATEGORY:' in col), '')\n",
    "\n",
    "    # Set new column names based on first row\n",
    "    stage_data.columns = stage_data.iloc[0]\n",
    "    stage_data = stage_data.iloc[1:]\n",
    "\n",
    "    # Identify and split merged columns\n",
    "    for col in stage_data.columns:\n",
    "        if \"FACTOR PTS A C D\" in col:\n",
    "            split_cols = stage_data[col].str.split(' ', n=4, expand=True)\n",
    "            split_cols.columns = [\"FACTOR\", \"PTS\", \"A\", \"C\", \"D\"]\n",
    "            stage_data = stage_data.drop(columns=[col]).join(split_cols)\n",
    "        elif \"FACTOR PTS A C\" in col:\n",
    "            split_cols = stage_data[col].str.split(' ', n=3, expand=True)\n",
    "            split_cols.columns = [\"FACTOR\", \"PTS\", \"A\", \"C\"]\n",
    "            stage_data = stage_data.drop(columns=[col]).join(split_cols)\n",
    "        elif \"FACTOR PTS A\" in col:\n",
    "            split_cols = stage_data[col].str.split(' ', n=2, expand=True)\n",
    "            split_cols.columns = [\"FACTOR\", \"PTS\", \"A\"]\n",
    "            stage_data = stage_data.drop(columns=[col]).join(split_cols)\n",
    "        elif \"FACTOR PTS\" in col and \"PTS\" not in stage_data.columns:\n",
    "            split_cols = stage_data[col].str.split(' ', n=1, expand=True)\n",
    "            split_cols.columns = [\"FACTOR\", \"PTS\"]\n",
    "            stage_data = stage_data.drop(columns=[col]).join(split_cols)\n",
    "\n",
    "    # Add shooter details\n",
    "    stage_data['SHOOTER'] = shooter_name\n",
    "    stage_data['DIV'] = division\n",
    "    stage_data['CLASS'] = class_\n",
    "    stage_data['POWER_FACTOR'] = factor\n",
    "    stage_data['CAT'] = category\n",
    "\n",
    "    # Handle 'Ded. MI' and 'NS PE' columns\n",
    "    if 'Ded. MI' in stage_data.columns:\n",
    "        stage_data[['DED', 'MI']] = stage_data['Ded. MI'].str.split(' ', n=1, expand=True)\n",
    "        stage_data.drop(columns=['Ded. MI'], inplace=True)\n",
    "    \n",
    "    if 'NS PE' in stage_data.columns:\n",
    "        stage_data[['NS', 'PE']] = stage_data['NS PE'].str.split(' ', n=1, expand=True)\n",
    "        stage_data.drop(columns=['NS PE'], inplace=True)\n",
    "\n",
    "    # Handle 'OT Time' column\n",
    "    if 'OT Time' in stage_data.columns:\n",
    "        if stage_data['OT Time'].str.contains(' ').any():\n",
    "            stage_data[['OT', 'TIME']] = stage_data['OT Time'].str.split(' ', n=1, expand=True)\n",
    "        else:\n",
    "            stage_data['OT'] = ''\n",
    "            stage_data['TIME'] = stage_data['OT Time']\n",
    "        stage_data.drop(columns=['OT Time'], inplace=True)\n",
    "\n",
    "    # Reorder columns\n",
    "    columns_order = ['SHOOTER', 'DIV', 'CLASS', 'POWER_FACTOR', 'CAT', 'STG', 'FACTOR', 'PTS', 'A', 'C', 'D', 'DED', 'MI', 'NS', 'PE', 'OT', 'TIME']\n",
    "    stage_data = stage_data[[col for col in columns_order if col in stage_data.columns]]\n",
    "    stage_data['DIV'] = stage_data['DIV'].str.strip()\n",
    "    return stage_data"
   ]
  },
  {
   "cell_type": "code",
   "execution_count": 4,
   "metadata": {},
   "outputs": [],
   "source": [
    "def get_match_data(match_name, match_date, match_level, match_file):\n",
    "    df_list = read_pdf(match_file, pages=\"all\", multiple_tables=True, java_options=\"-Djava.awt.headless=true\")\n",
    "    dfs_ = []\n",
    "    for df_ in df_list:\n",
    "        dfs_.append(scrape_stage(df_))\n",
    "    match = pd.concat(dfs_).reset_index(drop=True)\n",
    "    match['match_name'] = match_name\n",
    "    match['match_date'] = match_date\n",
    "    match['match_level'] = match_level\n",
    "    match.columns = match.columns.str.lower()\n",
    "    \n",
    "    match['factor'] = match['factor'].apply(lambda x: x.replace(',', '.')).astype(float)\n",
    "    match['time'] = match['time'].apply(lambda x: x.replace(',', '.')).astype(float)\n",
    "    match['pts'] = match['pts'].astype(int)\n",
    "    match['hit_factor'] = round(match['pts'] / match['time'], 4)\n",
    "    match['hf_check'] = match['hit_factor'] - match['factor']\n",
    "\n",
    "    match = match[['match_name', 'match_level', 'match_date', 'shooter', 'div', 'class', 'power_factor', 'cat', 'stg', 'factor', \n",
    "                #    'hf_check',\n",
    "                #    'hit_factor', \n",
    "                   'pts', 'a', 'c', 'd', 'ded', 'mi', 'ns', 'pe', 'ot', 'time']]\n",
    "\n",
    "    # match['div_pts_perc'] = match.groupby(['match_name', 'div', 'stg'])['pts'].transform(lambda x: (x / x.max()))\n",
    "    # match['div_first_time'] = match.groupby(['match_name', 'div', 'stg'])['time'].transform(lambda x: x[match['hit_factor'] > 0].min() if any(match['hit_factor'] > 0) else None)\n",
    "    # match['div_time_perc'] = match['div_first_time'] / match['time']\n",
    "    # match['div_factor_perc'] = match.groupby(['match_name', 'div', 'stg'])['hit_factor'].transform(lambda x: (x / x.max()))\n",
    "    # match['div_factor_standing'] = match.groupby(['match_name', 'div', 'stg'])['hit_factor'].transform(lambda x: x.rank(method='first', ascending=False))\n",
    "    \n",
    "    # match['cls_pts_perc'] = match.groupby(['match_name', 'div', 'class', 'stg'])['pts'].transform(lambda x: (x / x.max()))\n",
    "    # match['cls_first_time'] = match.groupby(['match_name', 'div', 'class', 'stg'])['time'].transform(lambda x: x[match['hit_factor'] > 0].min() if any(match['hit_factor'] > 0) else None)\n",
    "    # match['cls_time_perc'] = match['cls_first_time'] / match['time']\n",
    "    # match['cls_factor_perc'] = match.groupby(['match_name', 'div', 'class', 'stg'])['hit_factor'].transform(lambda x: (x / x.max()))\n",
    "    # match['cls_factor_standing'] = match.groupby(['match_name', 'div', 'class', 'stg'])['hit_factor'].transform(lambda x: x.rank(method='first', ascending=False))\n",
    "    \n",
    "    # match_abcd = match[match['class'].isin(['A', 'B', 'C', 'D'])].copy()\n",
    "    # match['div_pts_perc_abcd'] = match_abcd.groupby(['match_name', 'div', 'stg'])['pts'].transform(lambda x: (x / x.max()))\n",
    "    # match['div_first_time_abcd'] = match_abcd.groupby(['match_name', 'div', 'stg'])['time'].transform(lambda x: x[match_abcd['hit_factor'] > 0].min() if any(match_abcd['hit_factor'] > 0) else None)\n",
    "    # match['div_time_perc_abcd'] = match_abcd['div_first_time'] / match_abcd['time']\n",
    "    # match['div_factor_perc_abcd'] = match_abcd.groupby(['match_name', 'div', 'stg'])['hit_factor'].transform(lambda x: (x / x.max()))\n",
    "    # match['div_factor_standing_abcd'] = match_abcd.groupby(['match_name', 'div', 'stg'])['hit_factor'].transform(lambda x: x.rank(method='first', ascending=False))\n",
    "    \n",
    "    # match['cls_pts_perc_abcd'] = match_abcd.groupby(['match_name', 'div', 'class', 'stg'])['pts'].transform(lambda x: (x / x.max()))\n",
    "    # match['cls_first_time_abcd'] = match_abcd.groupby(['match_name', 'div', 'class', 'stg'])['time'].transform(lambda x: x[match_abcd['hit_factor'] > 0].min() if any(match_abcd['hit_factor'] > 0) else None)\n",
    "    # match['cls_time_perc_abcd'] = match_abcd['cls_first_time'] / match_abcd['time']\n",
    "    # match['cls_factor_perc_abcd'] = match_abcd.groupby(['match_name', 'div', 'class', 'stg'])['hit_factor'].transform(lambda x: (x / x.max()))\n",
    "    # match['cls_factor_standing_abcd'] = match_abcd.groupby(['match_name', 'div', 'class', 'stg'])['hit_factor'].transform(lambda x: x.rank(method='first', ascending=False))\n",
    "\n",
    "    return match"
   ]
  },
  {
   "cell_type": "code",
   "execution_count": 5,
   "metadata": {},
   "outputs": [
    {
     "name": "stderr",
     "output_type": "stream",
     "text": [
      "WARNING: A restricted method in java.lang.System has been called\n",
      "WARNING: java.lang.System::load has been called by org.jpype.JPypeContext in an unnamed module (file:/Library/Frameworks/Python.framework/Versions/3.12/lib/python3.12/site-packages/org.jpype.jar)\n",
      "WARNING: Use --enable-native-access=ALL-UNNAMED to avoid a warning for callers in this module\n",
      "WARNING: Restricted methods will be blocked in a future release unless native access is enabled\n",
      "\n"
     ]
    }
   ],
   "source": [
    "matches = []\n",
    "for year in year_dirs:\n",
    "    for pdf in os.listdir(pdf_dir+'/'+year):\n",
    "        if pdf != '.' and '_verify.pdf' in pdf:\n",
    "            path = pdf_dir+'/'+year+'/'+pdf\n",
    "            match_date = pdf[:10]\n",
    "            match_name = pdf.replace('_verify.pdf', '')\n",
    "            match_name = match_name.upper()\n",
    "            match_name = year+match_name[13:]\n",
    "            match_level = pdf[12:13]\n",
    "            matches.append(get_match_data(match_name=match_name, match_date=match_date, match_level=match_level, match_file=path))\n",
    "df = pd.concat(matches).sort_values('match_date')"
   ]
  },
  {
   "cell_type": "code",
   "execution_count": 6,
   "metadata": {},
   "outputs": [
    {
     "data": {
      "application/vnd.microsoft.datawrangler.viewer.v0+json": {
       "columns": [
        {
         "name": "index",
         "rawType": "object",
         "type": "string"
        },
        {
         "name": "0",
         "rawType": "int64",
         "type": "integer"
        }
       ],
       "ref": "03c9acbc-cff8-4cd0-9dd4-9c83dfda2f7e",
       "rows": [
        [
         "match_name",
         "0"
        ],
        [
         "match_level",
         "0"
        ],
        [
         "match_date",
         "0"
        ],
        [
         "shooter",
         "0"
        ],
        [
         "div",
         "0"
        ],
        [
         "class",
         "0"
        ],
        [
         "power_factor",
         "0"
        ],
        [
         "cat",
         "0"
        ],
        [
         "stg",
         "0"
        ],
        [
         "factor",
         "0"
        ],
        [
         "pts",
         "0"
        ],
        [
         "a",
         "0"
        ],
        [
         "c",
         "0"
        ],
        [
         "d",
         "0"
        ],
        [
         "ded",
         "0"
        ],
        [
         "mi",
         "0"
        ],
        [
         "ns",
         "0"
        ],
        [
         "pe",
         "0"
        ],
        [
         "ot",
         "0"
        ],
        [
         "time",
         "0"
        ]
       ],
       "shape": {
        "columns": 1,
        "rows": 20
       }
      },
      "text/plain": [
       "match_name      0\n",
       "match_level     0\n",
       "match_date      0\n",
       "shooter         0\n",
       "div             0\n",
       "class           0\n",
       "power_factor    0\n",
       "cat             0\n",
       "stg             0\n",
       "factor          0\n",
       "pts             0\n",
       "a               0\n",
       "c               0\n",
       "d               0\n",
       "ded             0\n",
       "mi              0\n",
       "ns              0\n",
       "pe              0\n",
       "ot              0\n",
       "time            0\n",
       "dtype: int64"
      ]
     },
     "execution_count": 6,
     "metadata": {},
     "output_type": "execute_result"
    }
   ],
   "source": [
    "df.isnull().sum()"
   ]
  },
  {
   "cell_type": "code",
   "execution_count": 7,
   "metadata": {},
   "outputs": [],
   "source": [
    "df.to_csv('IPSC.csv', index=False)"
   ]
  }
 ],
 "metadata": {
  "kernelspec": {
   "display_name": "Python 3",
   "language": "python",
   "name": "python3"
  },
  "language_info": {
   "codemirror_mode": {
    "name": "ipython",
    "version": 3
   },
   "file_extension": ".py",
   "mimetype": "text/x-python",
   "name": "python",
   "nbconvert_exporter": "python",
   "pygments_lexer": "ipython3",
   "version": "3.12.1"
  }
 },
 "nbformat": 4,
 "nbformat_minor": 2
}
